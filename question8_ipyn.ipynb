{
  "nbformat": 4,
  "nbformat_minor": 0,
  "metadata": {
    "colab": {
      "provenance": [],
      "authorship_tag": "ABX9TyNb4/cnmgzWR9cFxc29sWNx",
      "include_colab_link": true
    },
    "kernelspec": {
      "name": "python3",
      "display_name": "Python 3"
    },
    "language_info": {
      "name": "python"
    }
  },
  "cells": [
    {
      "cell_type": "markdown",
      "metadata": {
        "id": "view-in-github",
        "colab_type": "text"
      },
      "source": [
        "<a href=\"https://colab.research.google.com/github/SalmaNurKeya/Lab/blob/main/question8_ipyn.ipynb\" target=\"_parent\"><img src=\"https://colab.research.google.com/assets/colab-badge.svg\" alt=\"Open In Colab\"/></a>"
      ]
    },
    {
      "cell_type": "code",
      "source": [
        "def recur_fibo(n):\n",
        "    if n <= 1 :\n",
        "      return n\n",
        "    else :\n",
        "      return recur_fibo(n-1) + recur_fibo(n-2)\n",
        "\n",
        "nterms = 10\n",
        "\n",
        "\n",
        "# Check if the number of terms is valid\n",
        "if nterms <= 0:\n",
        "  print(\"please entera positive integer\")\n",
        "else:\n",
        "  print(\"Fibonacci sequence:\")\n",
        "  fib_sequence = [str(recur_fibo(i)) for i in range(nterms)]\n",
        "  print(\",\".join(fib_sequence))"
      ],
      "metadata": {
        "colab": {
          "base_uri": "https://localhost:8080/"
        },
        "id": "0pA_b57tMxHh",
        "outputId": "0ba76d70-3810-495a-b48a-5cbbbed435a1"
      },
      "execution_count": 17,
      "outputs": [
        {
          "output_type": "stream",
          "name": "stdout",
          "text": [
            "Fibonacci sequence:\n",
            "0,1,1,2,3,5,8,13,21,34\n"
          ]
        }
      ]
    }
  ]
}