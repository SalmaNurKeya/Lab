{
  "nbformat": 4,
  "nbformat_minor": 0,
  "metadata": {
    "colab": {
      "provenance": [],
      "authorship_tag": "ABX9TyPCdTotUXrV9urQ1HRKglkK",
      "include_colab_link": true
    },
    "kernelspec": {
      "name": "python3",
      "display_name": "Python 3"
    },
    "language_info": {
      "name": "python"
    }
  },
  "cells": [
    {
      "cell_type": "markdown",
      "metadata": {
        "id": "view-in-github",
        "colab_type": "text"
      },
      "source": [
        "<a href=\"https://colab.research.google.com/github/SalmaNurKeya/Lab/blob/main/question5_ipyn.ipynb\" target=\"_parent\"><img src=\"https://colab.research.google.com/assets/colab-badge.svg\" alt=\"Open In Colab\"/></a>"
      ]
    },
    {
      "cell_type": "code",
      "source": [
        "marks = {'Physics' :67, 'Math':87}\n",
        "internal_marks ={'Practical' :48}\n",
        "\n",
        "\n",
        "marks.update(internal_marks)\n",
        "\n",
        "\n",
        "\n",
        "print(marks)"
      ],
      "metadata": {
        "colab": {
          "base_uri": "https://localhost:8080/"
        },
        "id": "H4wZMNaoGtxg",
        "outputId": "cc437721-56db-4cf5-d51b-a865850dbc6d"
      },
      "execution_count": 10,
      "outputs": [
        {
          "output_type": "stream",
          "name": "stdout",
          "text": [
            "{'Physics': 67, 'Math': 87, 'Practical': 48}\n"
          ]
        }
      ]
    },
    {
      "cell_type": "code",
      "source": [],
      "metadata": {
        "colab": {
          "base_uri": "https://localhost:8080/"
        },
        "id": "3tg2BsNlwicQ",
        "outputId": "4eb2c990-57fa-4e7c-f7b5-94b783d4c7be"
      },
      "execution_count": 7,
      "outputs": [
        {
          "output_type": "stream",
          "name": "stdout",
          "text": [
            "5 is of type <class 'int'>\n",
            "5.42 is of type <class 'float'>\n",
            "(8+2j) is type <class 'complex'>\n"
          ]
        }
      ]
    },
    {
      "cell_type": "code",
      "execution_count": null,
      "metadata": {
        "id": "5NjkGiPpvZ5H"
      },
      "outputs": [],
      "source": []
    }
  ]
}