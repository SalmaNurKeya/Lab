{
  "nbformat": 4,
  "nbformat_minor": 0,
  "metadata": {
    "colab": {
      "provenance": [],
      "authorship_tag": "ABX9TyOkKpYZKfd8Drn3UcUScZKh",
      "include_colab_link": true
    },
    "kernelspec": {
      "name": "python3",
      "display_name": "Python 3"
    },
    "language_info": {
      "name": "python"
    }
  },
  "cells": [
    {
      "cell_type": "markdown",
      "metadata": {
        "id": "view-in-github",
        "colab_type": "text"
      },
      "source": [
        "<a href=\"https://colab.research.google.com/github/SalmaNurKeya/Lab/blob/main/Python_Flow_Control.ipynb\" target=\"_parent\"><img src=\"https://colab.research.google.com/assets/colab-badge.svg\" alt=\"Open In Colab\"/></a>"
      ]
    },
    {
      "cell_type": "code",
      "execution_count": 2,
      "metadata": {
        "colab": {
          "base_uri": "https://localhost:8080/"
        },
        "id": "4NCt3PXTjBgX",
        "outputId": "1c5aeaf0-2ad9-48f4-e51b-673059320f25"
      },
      "outputs": [
        {
          "output_type": "stream",
          "name": "stdout",
          "text": [
            "Enable\n"
          ]
        }
      ],
      "source": [
        "age = 28\n",
        "salary = 60000\n",
        "\n",
        "if age >= 25 and salary >= 50000:\n",
        "  print('Enable')\n",
        "else:\n",
        "  print('Disable')"
      ]
    },
    {
      "cell_type": "code",
      "source": [],
      "metadata": {
        "id": "jvDNnHGYkNfB"
      },
      "execution_count": null,
      "outputs": []
    }
  ]
}