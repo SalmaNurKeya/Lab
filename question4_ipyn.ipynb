{
  "nbformat": 4,
  "nbformat_minor": 0,
  "metadata": {
    "colab": {
      "provenance": [],
      "authorship_tag": "ABX9TyMbJd8ngpeKeVTe4F9/sZOV",
      "include_colab_link": true
    },
    "kernelspec": {
      "name": "python3",
      "display_name": "Python 3"
    },
    "language_info": {
      "name": "python"
    }
  },
  "cells": [
    {
      "cell_type": "markdown",
      "metadata": {
        "id": "view-in-github",
        "colab_type": "text"
      },
      "source": [
        "<a href=\"https://colab.research.google.com/github/SalmaNurKeya/Lab/blob/main/question4_ipyn.ipynb\" target=\"_parent\"><img src=\"https://colab.research.google.com/assets/colab-badge.svg\" alt=\"Open In Colab\"/></a>"
      ]
    },
    {
      "cell_type": "code",
      "source": [
        "\n",
        "num1 = 5\n",
        "print(num1, 'is of type', type(num1))\n",
        "\n",
        "num2 = 5.42\n",
        "print(num2, 'is of type' , type(num2))\n",
        "\n",
        "num3 = 8 + 2j\n",
        "print(num3, 'is type' , type(num3))\n",
        "\n",
        ""
      ],
      "metadata": {
        "colab": {
          "base_uri": "https://localhost:8080/"
        },
        "id": "3tg2BsNlwicQ",
        "outputId": "4eb2c990-57fa-4e7c-f7b5-94b783d4c7be"
      },
      "execution_count": 7,
      "outputs": [
        {
          "output_type": "stream",
          "name": "stdout",
          "text": [
            "5 is of type <class 'int'>\n",
            "5.42 is of type <class 'float'>\n",
            "(8+2j) is type <class 'complex'>\n"
          ]
        }
      ]
    },
    {
      "cell_type": "code",
      "execution_count": null,
      "metadata": {
        "id": "5NjkGiPpvZ5H"
      },
      "outputs": [],
      "source": []
    }
  ]
}