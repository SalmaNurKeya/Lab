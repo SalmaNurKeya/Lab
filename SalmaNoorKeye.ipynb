{
  "nbformat": 4,
  "nbformat_minor": 0,
  "metadata": {
    "colab": {
      "provenance": [],
      "authorship_tag": "ABX9TyNnInoO2uGd5Wgoju7Rag4+",
      "include_colab_link": true
    },
    "kernelspec": {
      "name": "python3",
      "display_name": "Python 3"
    },
    "language_info": {
      "name": "python"
    }
  },
  "cells": [
    {
      "cell_type": "markdown",
      "metadata": {
        "id": "view-in-github",
        "colab_type": "text"
      },
      "source": [
        "<a href=\"https://colab.research.google.com/github/SalmaNurKeya/Lab/blob/main/SalmaNoorKeye.ipynb\" target=\"_parent\"><img src=\"https://colab.research.google.com/assets/colab-badge.svg\" alt=\"Open In Colab\"/></a>"
      ]
    },
    {
      "cell_type": "code",
      "execution_count": 1,
      "metadata": {
        "colab": {
          "base_uri": "https://localhost:8080/"
        },
        "id": "07ekryrjbspi",
        "outputId": "82228c8c-5b09-4952-9ebc-25cb1a503ce1"
      },
      "outputs": [
        {
          "output_type": "stream",
          "name": "stdout",
          "text": [
            "value:  1100.25\n",
            "Data type:  <class 'float'>\n"
          ]
        }
      ],
      "source": [
        "integer_number = 1000\n",
        "float_number = 100.25\n",
        "\n",
        "new_number = integer_number + float_number\n",
        "\n",
        "print(\"value: \", new_number)\n",
        "print(\"Data type: \", type(new_number))"
      ]
    },
    {
      "cell_type": "code",
      "source": [],
      "metadata": {
        "id": "SyRRmNjPeVF_"
      },
      "execution_count": null,
      "outputs": []
    }
  ]
}